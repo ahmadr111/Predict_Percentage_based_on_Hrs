{
 "cells": [
  {
   "cell_type": "markdown",
   "id": "5252df9c",
   "metadata": {},
   "source": [
    "# Task3 as a Data Science Intern at The Spark Foundation "
   ]
  },
  {
   "cell_type": "code",
   "execution_count": 1,
   "id": "2d5ebade",
   "metadata": {},
   "outputs": [],
   "source": [
    "import numpy as np\n",
    "import pandas as pd\n",
    "from matplotlib import pyplot as plt\n",
    "from sklearn.linear_model import LinearRegression\n",
    "from sklearn.linear_model import SGDRegressor\n",
    "from sklearn.tree import DecisionTreeRegressor\n",
    "from sklearn.model_selection import train_test_split\n",
    "from sklearn.metrics import r2_score,mean_squared_error,mean_absolute_error"
   ]
  },
  {
   "cell_type": "code",
   "execution_count": 2,
   "id": "031617df",
   "metadata": {},
   "outputs": [
    {
     "name": "stdout",
     "output_type": "stream",
     "text": [
      "Data imported successfully\n"
     ]
    },
    {
     "data": {
      "text/html": [
       "<div>\n",
       "<style scoped>\n",
       "    .dataframe tbody tr th:only-of-type {\n",
       "        vertical-align: middle;\n",
       "    }\n",
       "\n",
       "    .dataframe tbody tr th {\n",
       "        vertical-align: top;\n",
       "    }\n",
       "\n",
       "    .dataframe thead th {\n",
       "        text-align: right;\n",
       "    }\n",
       "</style>\n",
       "<table border=\"1\" class=\"dataframe\">\n",
       "  <thead>\n",
       "    <tr style=\"text-align: right;\">\n",
       "      <th></th>\n",
       "      <th>Hours</th>\n",
       "      <th>Scores</th>\n",
       "    </tr>\n",
       "  </thead>\n",
       "  <tbody>\n",
       "    <tr>\n",
       "      <th>0</th>\n",
       "      <td>2.5</td>\n",
       "      <td>21</td>\n",
       "    </tr>\n",
       "    <tr>\n",
       "      <th>1</th>\n",
       "      <td>5.1</td>\n",
       "      <td>47</td>\n",
       "    </tr>\n",
       "    <tr>\n",
       "      <th>2</th>\n",
       "      <td>3.2</td>\n",
       "      <td>27</td>\n",
       "    </tr>\n",
       "    <tr>\n",
       "      <th>3</th>\n",
       "      <td>8.5</td>\n",
       "      <td>75</td>\n",
       "    </tr>\n",
       "    <tr>\n",
       "      <th>4</th>\n",
       "      <td>3.5</td>\n",
       "      <td>30</td>\n",
       "    </tr>\n",
       "    <tr>\n",
       "      <th>5</th>\n",
       "      <td>1.5</td>\n",
       "      <td>20</td>\n",
       "    </tr>\n",
       "    <tr>\n",
       "      <th>6</th>\n",
       "      <td>9.2</td>\n",
       "      <td>88</td>\n",
       "    </tr>\n",
       "    <tr>\n",
       "      <th>7</th>\n",
       "      <td>5.5</td>\n",
       "      <td>60</td>\n",
       "    </tr>\n",
       "    <tr>\n",
       "      <th>8</th>\n",
       "      <td>8.3</td>\n",
       "      <td>81</td>\n",
       "    </tr>\n",
       "    <tr>\n",
       "      <th>9</th>\n",
       "      <td>2.7</td>\n",
       "      <td>25</td>\n",
       "    </tr>\n",
       "  </tbody>\n",
       "</table>\n",
       "</div>"
      ],
      "text/plain": [
       "   Hours  Scores\n",
       "0    2.5      21\n",
       "1    5.1      47\n",
       "2    3.2      27\n",
       "3    8.5      75\n",
       "4    3.5      30\n",
       "5    1.5      20\n",
       "6    9.2      88\n",
       "7    5.5      60\n",
       "8    8.3      81\n",
       "9    2.7      25"
      ]
     },
     "execution_count": 2,
     "metadata": {},
     "output_type": "execute_result"
    }
   ],
   "source": [
    "# Reading data from remote link\n",
    "url = \"http://bit.ly/w-data\"\n",
    "df = pd.read_csv(url)\n",
    "print(\"Data imported successfully\")\n",
    "\n",
    "df.head(10)"
   ]
  },
  {
   "cell_type": "code",
   "execution_count": 3,
   "id": "b680fb57",
   "metadata": {},
   "outputs": [
    {
     "data": {
      "text/plain": [
       "(25, 2)"
      ]
     },
     "execution_count": 3,
     "metadata": {},
     "output_type": "execute_result"
    }
   ],
   "source": [
    "df.shape"
   ]
  },
  {
   "cell_type": "code",
   "execution_count": 4,
   "id": "7aac2a1f",
   "metadata": {},
   "outputs": [
    {
     "data": {
      "text/html": [
       "<div>\n",
       "<style scoped>\n",
       "    .dataframe tbody tr th:only-of-type {\n",
       "        vertical-align: middle;\n",
       "    }\n",
       "\n",
       "    .dataframe tbody tr th {\n",
       "        vertical-align: top;\n",
       "    }\n",
       "\n",
       "    .dataframe thead th {\n",
       "        text-align: right;\n",
       "    }\n",
       "</style>\n",
       "<table border=\"1\" class=\"dataframe\">\n",
       "  <thead>\n",
       "    <tr style=\"text-align: right;\">\n",
       "      <th></th>\n",
       "      <th>Hours</th>\n",
       "      <th>Scores</th>\n",
       "    </tr>\n",
       "  </thead>\n",
       "  <tbody>\n",
       "    <tr>\n",
       "      <th>count</th>\n",
       "      <td>25.000000</td>\n",
       "      <td>25.000000</td>\n",
       "    </tr>\n",
       "    <tr>\n",
       "      <th>mean</th>\n",
       "      <td>5.012000</td>\n",
       "      <td>51.480000</td>\n",
       "    </tr>\n",
       "    <tr>\n",
       "      <th>std</th>\n",
       "      <td>2.525094</td>\n",
       "      <td>25.286887</td>\n",
       "    </tr>\n",
       "    <tr>\n",
       "      <th>min</th>\n",
       "      <td>1.100000</td>\n",
       "      <td>17.000000</td>\n",
       "    </tr>\n",
       "    <tr>\n",
       "      <th>25%</th>\n",
       "      <td>2.700000</td>\n",
       "      <td>30.000000</td>\n",
       "    </tr>\n",
       "    <tr>\n",
       "      <th>50%</th>\n",
       "      <td>4.800000</td>\n",
       "      <td>47.000000</td>\n",
       "    </tr>\n",
       "    <tr>\n",
       "      <th>75%</th>\n",
       "      <td>7.400000</td>\n",
       "      <td>75.000000</td>\n",
       "    </tr>\n",
       "    <tr>\n",
       "      <th>max</th>\n",
       "      <td>9.200000</td>\n",
       "      <td>95.000000</td>\n",
       "    </tr>\n",
       "  </tbody>\n",
       "</table>\n",
       "</div>"
      ],
      "text/plain": [
       "           Hours     Scores\n",
       "count  25.000000  25.000000\n",
       "mean    5.012000  51.480000\n",
       "std     2.525094  25.286887\n",
       "min     1.100000  17.000000\n",
       "25%     2.700000  30.000000\n",
       "50%     4.800000  47.000000\n",
       "75%     7.400000  75.000000\n",
       "max     9.200000  95.000000"
      ]
     },
     "execution_count": 4,
     "metadata": {},
     "output_type": "execute_result"
    }
   ],
   "source": [
    "df.describe()"
   ]
  },
  {
   "cell_type": "code",
   "execution_count": 5,
   "id": "19adca05",
   "metadata": {},
   "outputs": [
    {
     "data": {
      "text/html": [
       "<div>\n",
       "<style scoped>\n",
       "    .dataframe tbody tr th:only-of-type {\n",
       "        vertical-align: middle;\n",
       "    }\n",
       "\n",
       "    .dataframe tbody tr th {\n",
       "        vertical-align: top;\n",
       "    }\n",
       "\n",
       "    .dataframe thead th {\n",
       "        text-align: right;\n",
       "    }\n",
       "</style>\n",
       "<table border=\"1\" class=\"dataframe\">\n",
       "  <thead>\n",
       "    <tr style=\"text-align: right;\">\n",
       "      <th></th>\n",
       "      <th>Hours</th>\n",
       "      <th>Scores</th>\n",
       "    </tr>\n",
       "  </thead>\n",
       "  <tbody>\n",
       "    <tr>\n",
       "      <th>Hours</th>\n",
       "      <td>1.000000</td>\n",
       "      <td>0.976191</td>\n",
       "    </tr>\n",
       "    <tr>\n",
       "      <th>Scores</th>\n",
       "      <td>0.976191</td>\n",
       "      <td>1.000000</td>\n",
       "    </tr>\n",
       "  </tbody>\n",
       "</table>\n",
       "</div>"
      ],
      "text/plain": [
       "           Hours    Scores\n",
       "Hours   1.000000  0.976191\n",
       "Scores  0.976191  1.000000"
      ]
     },
     "execution_count": 5,
     "metadata": {},
     "output_type": "execute_result"
    }
   ],
   "source": [
    "df.corr()"
   ]
  },
  {
   "cell_type": "code",
   "execution_count": 6,
   "id": "084f635f",
   "metadata": {},
   "outputs": [],
   "source": [
    "x=df.iloc[:,0]\n",
    "y=df.iloc[:,-1]"
   ]
  },
  {
   "cell_type": "code",
   "execution_count": 7,
   "id": "0c73c5e4",
   "metadata": {},
   "outputs": [
    {
     "name": "stdout",
     "output_type": "stream",
     "text": [
      "0     2.5\n",
      "1     5.1\n",
      "2     3.2\n",
      "3     8.5\n",
      "4     3.5\n",
      "5     1.5\n",
      "6     9.2\n",
      "7     5.5\n",
      "8     8.3\n",
      "9     2.7\n",
      "10    7.7\n",
      "11    5.9\n",
      "12    4.5\n",
      "13    3.3\n",
      "14    1.1\n",
      "15    8.9\n",
      "16    2.5\n",
      "17    1.9\n",
      "18    6.1\n",
      "19    7.4\n",
      "20    2.7\n",
      "21    4.8\n",
      "22    3.8\n",
      "23    6.9\n",
      "24    7.8\n",
      "Name: Hours, dtype: float64\n"
     ]
    }
   ],
   "source": [
    "print(x)"
   ]
  },
  {
   "cell_type": "code",
   "execution_count": 8,
   "id": "e3e5c861",
   "metadata": {},
   "outputs": [
    {
     "name": "stdout",
     "output_type": "stream",
     "text": [
      "0     21\n",
      "1     47\n",
      "2     27\n",
      "3     75\n",
      "4     30\n",
      "5     20\n",
      "6     88\n",
      "7     60\n",
      "8     81\n",
      "9     25\n",
      "10    85\n",
      "11    62\n",
      "12    41\n",
      "13    42\n",
      "14    17\n",
      "15    95\n",
      "16    30\n",
      "17    24\n",
      "18    67\n",
      "19    69\n",
      "20    30\n",
      "21    54\n",
      "22    35\n",
      "23    76\n",
      "24    86\n",
      "Name: Scores, dtype: int64\n"
     ]
    }
   ],
   "source": [
    "print(y)"
   ]
  },
  {
   "cell_type": "code",
   "execution_count": 9,
   "id": "6b02e1c1",
   "metadata": {},
   "outputs": [
    {
     "data": {
      "image/png": "[encoded data removed]",
      "text/plain": [
       "<Figure size 640x480 with 1 Axes>"
      ]
     },
     "metadata": {},
     "output_type": "display_data"
    }
   ],
   "source": [
    "plt.scatter(x,y,c='red')\n",
    "plt.xlabel('Hours')\n",
    "plt.ylabel('Scores')\n",
    "plt.show()"
   ]
  },
  {
   "cell_type": "code",
   "execution_count": 10,
   "id": "a009b349",
   "metadata": {},
   "outputs": [],
   "source": [
    "x=np.array(x)\n",
    "y=np.array(y)"
   ]
  },
  {
   "cell_type": "code",
   "execution_count": 11,
   "id": "18f320b6",
   "metadata": {},
   "outputs": [],
   "source": [
    "x_train,x_test,y_train,y_test=train_test_split(x,y,test_size=0.2,random_state=42)"
   ]
  },
  {
   "cell_type": "code",
   "execution_count": 12,
   "id": "7fd7e28c",
   "metadata": {},
   "outputs": [],
   "source": [
    "x_train=x_train.reshape(-1,1)\n",
    "y_train=y_train.reshape(-1,1)\n",
    "x_test=x_test.reshape(-1,1)\n",
    "y_test=y_test.reshape(-1,1)"
   ]
  },
  {
   "cell_type": "code",
   "execution_count": 13,
   "id": "edde11f2",
   "metadata": {},
   "outputs": [
    {
     "data": {
      "text/plain": [
       "array([[81],\n",
       "       [30],\n",
       "       [21],\n",
       "       [76],\n",
       "       [62]], dtype=int64)"
      ]
     },
     "execution_count": 13,
     "metadata": {},
     "output_type": "execute_result"
    }
   ],
   "source": [
    "y_test"
   ]
  },
  {
   "cell_type": "markdown",
   "id": "aa45060e",
   "metadata": {},
   "source": [
    "# Linear Regression"
   ]
  },
  {
   "cell_type": "code",
   "execution_count": 14,
   "id": "e8942859",
   "metadata": {},
   "outputs": [],
   "source": [
    "lr=LinearRegression()"
   ]
  },
  {
   "cell_type": "code",
   "execution_count": 15,
   "id": "c991df6f",
   "metadata": {},
   "outputs": [
    {
     "data": {
      "text/html": [
       "<style>#sk-container-id-1 {color: black;background-color: white;}#sk-container-id-1 pre{padding: 0;}#sk-container-id-1 div.sk-toggleable {background-color: white;}#sk-container-id-1 label.sk-toggleable__label {cursor: pointer;display: block;width: 100%;margin-bottom: 0;padding: 0.3em;box-sizing: border-box;text-align: center;}#sk-container-id-1 label.sk-toggleable__label-arrow:before {content: \"▸\";float: left;margin-right: 0.25em;color: #696969;}#sk-container-id-1 label.sk-toggleable__label-arrow:hover:before {color: black;}#sk-container-id-1 div.sk-estimator:hover label.sk-toggleable__label-arrow:before {color: black;}#sk-container-id-1 div.sk-toggleable__content {max-height: 0;max-width: 0;overflow: hidden;text-align: left;background-color: #f0f8ff;}#sk-container-id-1 div.sk-toggleable__content pre {margin: 0.2em;color: black;border-radius: 0.25em;background-color: #f0f8ff;}#sk-container-id-1 input.sk-toggleable__control:checked~div.sk-toggleable__content {max-height: 200px;max-width: 100%;overflow: auto;}#sk-container-id-1 input.sk-toggleable__control:checked~label.sk-toggleable__label-arrow:before {content: \"▾\";}#sk-container-id-1 div.sk-estimator input.sk-toggleable__control:checked~label.sk-toggleable__label {background-color: #d4ebff;}#sk-container-id-1 div.sk-label input.sk-toggleable__control:checked~label.sk-toggleable__label {background-color: #d4ebff;}#sk-container-id-1 input.sk-hidden--visually {border: 0;clip: rect(1px 1px 1px 1px);clip: rect(1px, 1px, 1px, 1px);height: 1px;margin: -1px;overflow: hidden;padding: 0;position: absolute;width: 1px;}#sk-container-id-1 div.sk-estimator {font-family: monospace;background-color: #f0f8ff;border: 1px dotted black;border-radius: 0.25em;box-sizing: border-box;margin-bottom: 0.5em;}#sk-container-id-1 div.sk-estimator:hover {background-color: #d4ebff;}#sk-container-id-1 div.sk-parallel-item::after {content: \"\";width: 100%;border-bottom: 1px solid gray;flex-grow: 1;}#sk-container-id-1 div.sk-label:hover label.sk-toggleable__label {background-color: #d4ebff;}#sk-container-id-1 div.sk-serial::before {content: \"\";position: absolute;border-left: 1px solid gray;box-sizing: border-box;top: 0;bottom: 0;left: 50%;z-index: 0;}#sk-container-id-1 div.sk-serial {display: flex;flex-direction: column;align-items: center;background-color: white;padding-right: 0.2em;padding-left: 0.2em;position: relative;}#sk-container-id-1 div.sk-item {position: relative;z-index: 1;}#sk-container-id-1 div.sk-parallel {display: flex;align-items: stretch;justify-content: center;background-color: white;position: relative;}#sk-container-id-1 div.sk-item::before, #sk-container-id-1 div.sk-parallel-item::before {content: \"\";position: absolute;border-left: 1px solid gray;box-sizing: border-box;top: 0;bottom: 0;left: 50%;z-index: -1;}#sk-container-id-1 div.sk-parallel-item {display: flex;flex-direction: column;z-index: 1;position: relative;background-color: white;}#sk-container-id-1 div.sk-parallel-item:first-child::after {align-self: flex-end;width: 50%;}#sk-container-id-1 div.sk-parallel-item:last-child::after {align-self: flex-start;width: 50%;}#sk-container-id-1 div.sk-parallel-item:only-child::after {width: 0;}#sk-container-id-1 div.sk-dashed-wrapped {border: 1px dashed gray;margin: 0 0.4em 0.5em 0.4em;box-sizing: border-box;padding-bottom: 0.4em;background-color: white;}#sk-container-id-1 div.sk-label label {font-family: monospace;font-weight: bold;display: inline-block;line-height: 1.2em;}#sk-container-id-1 div.sk-label-container {text-align: center;}#sk-container-id-1 div.sk-container {/* jupyter's `normalize.less` sets `[hidden] { display: none; }` but bootstrap.min.css set `[hidden] { display: none !important; }` so we also need the `!important` here to be able to override the default hidden behavior on the sphinx rendered scikit-learn.org. See: https://github.com/scikit-learn/scikit-learn/issues/21755 */display: inline-block !important;position: relative;}#sk-container-id-1 div.sk-text-repr-fallback {display: none;}</style><div id=\"sk-container-id-1\" class=\"sk-top-container\"><div class=\"sk-text-repr-fallback\"><pre>LinearRegression()</pre><b>In a Jupyter environment, please rerun this cell to show the HTML representation or trust the notebook. <br />On GitHub, the HTML representation is unable to render, please try loading this page with nbviewer.org.</b></div><div class=\"sk-container\" hidden><div class=\"sk-item\"><div class=\"sk-estimator sk-toggleable\"><input class=\"sk-toggleable__control sk-hidden--visually\" id=\"sk-estimator-id-1\" type=\"checkbox\" checked><label for=\"sk-estimator-id-1\" class=\"sk-toggleable__label sk-toggleable__label-arrow\">LinearRegression</label><div class=\"sk-toggleable__content\"><pre>LinearRegression()</pre></div></div></div></div></div>"
      ],
      "text/plain": [
       "LinearRegression()"
      ]
     },
     "execution_count": 15,
     "metadata": {},
     "output_type": "execute_result"
    }
   ],
   "source": [
    "lr.fit(x_train,y_train)"
   ]
  },
  {
   "cell_type": "code",
   "execution_count": 16,
   "id": "8b6396b6",
   "metadata": {},
   "outputs": [],
   "source": [
    "y_pred1=lr.predict(x_test)"
   ]
  },
  {
   "cell_type": "code",
   "execution_count": 17,
   "id": "4f5a4024",
   "metadata": {},
   "outputs": [
    {
     "name": "stdout",
     "output_type": "stream",
     "text": [
      "[[83.18814104]\n",
      " [27.03208774]\n",
      " [27.03208774]\n",
      " [69.63323162]\n",
      " [59.95115347]]\n"
     ]
    }
   ],
   "source": [
    "print(y_pred1)"
   ]
  },
  {
   "cell_type": "markdown",
   "id": "168c0f5c",
   "metadata": {},
   "source": [
    "# R2_score"
   ]
  },
  {
   "cell_type": "code",
   "execution_count": 18,
   "id": "eb5b7a31",
   "metadata": {},
   "outputs": [
    {
     "data": {
      "text/plain": [
       "0.9678055545167994"
      ]
     },
     "execution_count": 18,
     "metadata": {},
     "output_type": "execute_result"
    }
   ],
   "source": [
    "r2_score(y_test,y_pred1) # Accuracy"
   ]
  },
  {
   "cell_type": "code",
   "execution_count": 19,
   "id": "430c2d78",
   "metadata": {},
   "outputs": [
    {
     "data": {
      "text/plain": [
       "array([2.82689235])"
      ]
     },
     "execution_count": 19,
     "metadata": {},
     "output_type": "execute_result"
    }
   ],
   "source": [
    "lr.intercept_"
   ]
  },
  {
   "cell_type": "code",
   "execution_count": 20,
   "id": "cb10fafb",
   "metadata": {},
   "outputs": [
    {
     "data": {
      "text/plain": [
       "array([[9.68207815]])"
      ]
     },
     "execution_count": 20,
     "metadata": {},
     "output_type": "execute_result"
    }
   ],
   "source": [
    "lr.coef_"
   ]
  },
  {
   "cell_type": "code",
   "execution_count": 21,
   "id": "967c5f52",
   "metadata": {},
   "outputs": [
    {
     "data": {
      "text/plain": [
       "18.943211722315272"
      ]
     },
     "execution_count": 21,
     "metadata": {},
     "output_type": "execute_result"
    }
   ],
   "source": [
    "mean_squared_error(y_test,y_pred1)"
   ]
  },
  {
   "cell_type": "code",
   "execution_count": 22,
   "id": "81b91a52",
   "metadata": {},
   "outputs": [
    {
     "name": "stdout",
     "output_type": "stream",
     "text": [
      "mean_absolute_error 3.9207511902099244\n"
     ]
    }
   ],
   "source": [
    "print('mean_absolute_error',mean_absolute_error(y_test,y_pred1))"
   ]
  },
  {
   "cell_type": "markdown",
   "id": "044a17da",
   "metadata": {},
   "source": [
    "# Visualizing"
   ]
  },
  {
   "cell_type": "code",
   "execution_count": 23,
   "id": "8277f2c3",
   "metadata": {},
   "outputs": [
    {
     "data": {
      "image/png": "[encoded data removed]",
      "text/plain": [
       "<Figure size 640x480 with 1 Axes>"
      ]
     },
     "metadata": {},
     "output_type": "display_data"
    }
   ],
   "source": [
    "plt.scatter(x_train,y_train,c='red')\n",
    "plt.plot(x_test,y_pred1)\n",
    "plt.xlabel('Hours')\n",
    "plt.ylabel('Scores')\n",
    "plt.show()"
   ]
  },
  {
   "cell_type": "code",
   "execution_count": 24,
   "id": "4a8041a9",
   "metadata": {},
   "outputs": [
    {
     "data": {
      "image/png": "[encoded data removed]",
      "text/plain": [
       "<Figure size 640x480 with 1 Axes>"
      ]
     },
     "metadata": {},
     "output_type": "display_data"
    }
   ],
   "source": [
    "plt.scatter(x_test,y_test,c='red')\n",
    "plt.plot(x_test,y_pred1)\n",
    "plt.xlabel('Hours')\n",
    "plt.ylabel('Scores')\n",
    "plt.show()"
   ]
  },
  {
   "cell_type": "markdown",
   "id": "0fdf7287",
   "metadata": {},
   "source": [
    "# predict Score if student studies for 9.15 hrs/day? (According to Linear Regression Model)"
   ]
  },
  {
   "cell_type": "code",
   "execution_count": 47,
   "id": "4dc07a25",
   "metadata": {},
   "outputs": [
    {
     "name": "stdout",
     "output_type": "stream",
     "text": [
      "pred_score if student studies for 9.15 hrs/day [[91.41790747]]\n"
     ]
    }
   ],
   "source": [
    "pred_score=lr.predict([[9.15]])\n",
    "print('pred_score if student studies for 9.15 hrs/day',pred_score)"
   ]
  },
  {
   "cell_type": "code",
   "execution_count": null,
   "id": "337b0736",
   "metadata": {},
   "outputs": [],
   "source": []
  },
  {
   "cell_type": "markdown",
   "id": "5a32365a",
   "metadata": {},
   "source": [
    "# Sgd Regressor"
   ]
  },
  {
   "cell_type": "code",
   "execution_count": 26,
   "id": "d360793a",
   "metadata": {},
   "outputs": [],
   "source": [
    "sgd=SGDRegressor()"
   ]
  },
  {
   "cell_type": "code",
   "execution_count": 27,
   "id": "7b9a7528",
   "metadata": {},
   "outputs": [
    {
     "name": "stderr",
     "output_type": "stream",
     "text": [
      "C:\\python37\\Lib\\site-packages\\sklearn\\utils\\validation.py:1143: DataConversionWarning: A column-vector y was passed when a 1d array was expected. Please change the shape of y to (n_samples, ), for example using ravel().\n",
      "  y = column_or_1d(y, warn=True)\n"
     ]
    },
    {
     "data": {
      "text/html": [
       "<style>#sk-container-id-2 {color: black;background-color: white;}#sk-container-id-2 pre{padding: 0;}#sk-container-id-2 div.sk-toggleable {background-color: white;}#sk-container-id-2 label.sk-toggleable__label {cursor: pointer;display: block;width: 100%;margin-bottom: 0;padding: 0.3em;box-sizing: border-box;text-align: center;}#sk-container-id-2 label.sk-toggleable__label-arrow:before {content: \"▸\";float: left;margin-right: 0.25em;color: #696969;}#sk-container-id-2 label.sk-toggleable__label-arrow:hover:before {color: black;}#sk-container-id-2 div.sk-estimator:hover label.sk-toggleable__label-arrow:before {color: black;}#sk-container-id-2 div.sk-toggleable__content {max-height: 0;max-width: 0;overflow: hidden;text-align: left;background-color: #f0f8ff;}#sk-container-id-2 div.sk-toggleable__content pre {margin: 0.2em;color: black;border-radius: 0.25em;background-color: #f0f8ff;}#sk-container-id-2 input.sk-toggleable__control:checked~div.sk-toggleable__content {max-height: 200px;max-width: 100%;overflow: auto;}#sk-container-id-2 input.sk-toggleable__control:checked~label.sk-toggleable__label-arrow:before {content: \"▾\";}#sk-container-id-2 div.sk-estimator input.sk-toggleable__control:checked~label.sk-toggleable__label {background-color: #d4ebff;}#sk-container-id-2 div.sk-label input.sk-toggleable__control:checked~label.sk-toggleable__label {background-color: #d4ebff;}#sk-container-id-2 input.sk-hidden--visually {border: 0;clip: rect(1px 1px 1px 1px);clip: rect(1px, 1px, 1px, 1px);height: 1px;margin: -1px;overflow: hidden;padding: 0;position: absolute;width: 1px;}#sk-container-id-2 div.sk-estimator {font-family: monospace;background-color: #f0f8ff;border: 1px dotted black;border-radius: 0.25em;box-sizing: border-box;margin-bottom: 0.5em;}#sk-container-id-2 div.sk-estimator:hover {background-color: #d4ebff;}#sk-container-id-2 div.sk-parallel-item::after {content: \"\";width: 100%;border-bottom: 1px solid gray;flex-grow: 1;}#sk-container-id-2 div.sk-label:hover label.sk-toggleable__label {background-color: #d4ebff;}#sk-container-id-2 div.sk-serial::before {content: \"\";position: absolute;border-left: 1px solid gray;box-sizing: border-box;top: 0;bottom: 0;left: 50%;z-index: 0;}#sk-container-id-2 div.sk-serial {display: flex;flex-direction: column;align-items: center;background-color: white;padding-right: 0.2em;padding-left: 0.2em;position: relative;}#sk-container-id-2 div.sk-item {position: relative;z-index: 1;}#sk-container-id-2 div.sk-parallel {display: flex;align-items: stretch;justify-content: center;background-color: white;position: relative;}#sk-container-id-2 div.sk-item::before, #sk-container-id-2 div.sk-parallel-item::before {content: \"\";position: absolute;border-left: 1px solid gray;box-sizing: border-box;top: 0;bottom: 0;left: 50%;z-index: -1;}#sk-container-id-2 div.sk-parallel-item {display: flex;flex-direction: column;z-index: 1;position: relative;background-color: white;}#sk-container-id-2 div.sk-parallel-item:first-child::after {align-self: flex-end;width: 50%;}#sk-container-id-2 div.sk-parallel-item:last-child::after {align-self: flex-start;width: 50%;}#sk-container-id-2 div.sk-parallel-item:only-child::after {width: 0;}#sk-container-id-2 div.sk-dashed-wrapped {border: 1px dashed gray;margin: 0 0.4em 0.5em 0.4em;box-sizing: border-box;padding-bottom: 0.4em;background-color: white;}#sk-container-id-2 div.sk-label label {font-family: monospace;font-weight: bold;display: inline-block;line-height: 1.2em;}#sk-container-id-2 div.sk-label-container {text-align: center;}#sk-container-id-2 div.sk-container {/* jupyter's `normalize.less` sets `[hidden] { display: none; }` but bootstrap.min.css set `[hidden] { display: none !important; }` so we also need the `!important` here to be able to override the default hidden behavior on the sphinx rendered scikit-learn.org. See: https://github.com/scikit-learn/scikit-learn/issues/21755 */display: inline-block !important;position: relative;}#sk-container-id-2 div.sk-text-repr-fallback {display: none;}</style><div id=\"sk-container-id-2\" class=\"sk-top-container\"><div class=\"sk-text-repr-fallback\"><pre>SGDRegressor()</pre><b>In a Jupyter environment, please rerun this cell to show the HTML representation or trust the notebook. <br />On GitHub, the HTML representation is unable to render, please try loading this page with nbviewer.org.</b></div><div class=\"sk-container\" hidden><div class=\"sk-item\"><div class=\"sk-estimator sk-toggleable\"><input class=\"sk-toggleable__control sk-hidden--visually\" id=\"sk-estimator-id-2\" type=\"checkbox\" checked><label for=\"sk-estimator-id-2\" class=\"sk-toggleable__label sk-toggleable__label-arrow\">SGDRegressor</label><div class=\"sk-toggleable__content\"><pre>SGDRegressor()</pre></div></div></div></div></div>"
      ],
      "text/plain": [
       "SGDRegressor()"
      ]
     },
     "execution_count": 27,
     "metadata": {},
     "output_type": "execute_result"
    }
   ],
   "source": [
    "sgd.fit(x_train,y_train)"
   ]
  },
  {
   "cell_type": "code",
   "execution_count": 28,
   "id": "6568b30e",
   "metadata": {},
   "outputs": [],
   "source": [
    "y_pred2=sgd.predict(x_test)"
   ]
  },
  {
   "cell_type": "markdown",
   "id": "3a35a3e8",
   "metadata": {},
   "source": [
    "# R2_score"
   ]
  },
  {
   "cell_type": "code",
   "execution_count": 29,
   "id": "cc68e5fc",
   "metadata": {},
   "outputs": [
    {
     "data": {
      "text/plain": [
       "0.9701056971716489"
      ]
     },
     "execution_count": 29,
     "metadata": {},
     "output_type": "execute_result"
    }
   ],
   "source": [
    "r2_score(y_test,y_pred2) # better than Decision and Linear Regressor"
   ]
  },
  {
   "cell_type": "code",
   "execution_count": 30,
   "id": "58ff02e2",
   "metadata": {},
   "outputs": [
    {
     "data": {
      "text/plain": [
       "array([10.13263307])"
      ]
     },
     "execution_count": 30,
     "metadata": {},
     "output_type": "execute_result"
    }
   ],
   "source": [
    "sgd.coef_"
   ]
  },
  {
   "cell_type": "code",
   "execution_count": 31,
   "id": "e9ee5580",
   "metadata": {},
   "outputs": [
    {
     "data": {
      "text/plain": [
       "array([1.7352197])"
      ]
     },
     "execution_count": 31,
     "metadata": {},
     "output_type": "execute_result"
    }
   ],
   "source": [
    "sgd.intercept_"
   ]
  },
  {
   "cell_type": "code",
   "execution_count": 32,
   "id": "66ea907a",
   "metadata": {},
   "outputs": [
    {
     "name": "stdout",
     "output_type": "stream",
     "text": [
      "mean_absolute_error 3.73358629452884\n"
     ]
    }
   ],
   "source": [
    "print('mean_absolute_error',mean_absolute_error(y_test,y_pred2))"
   ]
  },
  {
   "cell_type": "markdown",
   "id": "ae61c5dc",
   "metadata": {},
   "source": [
    "# Visualizing"
   ]
  },
  {
   "cell_type": "code",
   "execution_count": 33,
   "id": "4208964a",
   "metadata": {},
   "outputs": [
    {
     "data": {
      "image/png": "[encoded data removed]",
      "text/plain": [
       "<Figure size 640x480 with 1 Axes>"
      ]
     },
     "metadata": {},
     "output_type": "display_data"
    }
   ],
   "source": [
    "plt.scatter(x_train,y_train,c='red')\n",
    "plt.plot(x_test,y_pred2)\n",
    "plt.xlabel('Hours')\n",
    "plt.ylabel('Scores')\n",
    "plt.show()"
   ]
  },
  {
   "cell_type": "code",
   "execution_count": 34,
   "id": "ab857926",
   "metadata": {},
   "outputs": [
    {
     "data": {
      "image/png": "[encoded data removed]",
      "text/plain": [
       "<Figure size 640x480 with 1 Axes>"
      ]
     },
     "metadata": {},
     "output_type": "display_data"
    }
   ],
   "source": [
    "plt.scatter(x_test,y_test,c='red')\n",
    "plt.plot(x_test,y_pred2)\n",
    "plt.xlabel('Hours')\n",
    "plt.ylabel('Scores')\n",
    "plt.show()"
   ]
  },
  {
   "cell_type": "markdown",
   "id": "54a6e9f0",
   "metadata": {},
   "source": [
    "# predict Score if student studies for 9.15 hrs/day? (According to Linear SGD Regressor Model)"
   ]
  },
  {
   "cell_type": "code",
   "execution_count": 48,
   "id": "bf357afc",
   "metadata": {},
   "outputs": [
    {
     "name": "stdout",
     "output_type": "stream",
     "text": [
      "pred_score if student studies for 9.15 hrs/day [94.44881232]\n"
     ]
    }
   ],
   "source": [
    "pred_score=sgd.predict([[9.15]])\n",
    "print('pred_score if student studies for 9.15 hrs/day',pred_score) # according to SGD model"
   ]
  },
  {
   "cell_type": "markdown",
   "id": "52bd5a04",
   "metadata": {},
   "source": [
    "# Using DecisionTreeRegressor "
   ]
  },
  {
   "cell_type": "code",
   "execution_count": 35,
   "id": "14483007",
   "metadata": {},
   "outputs": [],
   "source": [
    "dtr=DecisionTreeRegressor(max_depth=3)"
   ]
  },
  {
   "cell_type": "code",
   "execution_count": 36,
   "id": "3411a3b6",
   "metadata": {},
   "outputs": [
    {
     "data": {
      "text/html": [
       "<style>#sk-container-id-3 {color: black;background-color: white;}#sk-container-id-3 pre{padding: 0;}#sk-container-id-3 div.sk-toggleable {background-color: white;}#sk-container-id-3 label.sk-toggleable__label {cursor: pointer;display: block;width: 100%;margin-bottom: 0;padding: 0.3em;box-sizing: border-box;text-align: center;}#sk-container-id-3 label.sk-toggleable__label-arrow:before {content: \"▸\";float: left;margin-right: 0.25em;color: #696969;}#sk-container-id-3 label.sk-toggleable__label-arrow:hover:before {color: black;}#sk-container-id-3 div.sk-estimator:hover label.sk-toggleable__label-arrow:before {color: black;}#sk-container-id-3 div.sk-toggleable__content {max-height: 0;max-width: 0;overflow: hidden;text-align: left;background-color: #f0f8ff;}#sk-container-id-3 div.sk-toggleable__content pre {margin: 0.2em;color: black;border-radius: 0.25em;background-color: #f0f8ff;}#sk-container-id-3 input.sk-toggleable__control:checked~div.sk-toggleable__content {max-height: 200px;max-width: 100%;overflow: auto;}#sk-container-id-3 input.sk-toggleable__control:checked~label.sk-toggleable__label-arrow:before {content: \"▾\";}#sk-container-id-3 div.sk-estimator input.sk-toggleable__control:checked~label.sk-toggleable__label {background-color: #d4ebff;}#sk-container-id-3 div.sk-label input.sk-toggleable__control:checked~label.sk-toggleable__label {background-color: #d4ebff;}#sk-container-id-3 input.sk-hidden--visually {border: 0;clip: rect(1px 1px 1px 1px);clip: rect(1px, 1px, 1px, 1px);height: 1px;margin: -1px;overflow: hidden;padding: 0;position: absolute;width: 1px;}#sk-container-id-3 div.sk-estimator {font-family: monospace;background-color: #f0f8ff;border: 1px dotted black;border-radius: 0.25em;box-sizing: border-box;margin-bottom: 0.5em;}#sk-container-id-3 div.sk-estimator:hover {background-color: #d4ebff;}#sk-container-id-3 div.sk-parallel-item::after {content: \"\";width: 100%;border-bottom: 1px solid gray;flex-grow: 1;}#sk-container-id-3 div.sk-label:hover label.sk-toggleable__label {background-color: #d4ebff;}#sk-container-id-3 div.sk-serial::before {content: \"\";position: absolute;border-left: 1px solid gray;box-sizing: border-box;top: 0;bottom: 0;left: 50%;z-index: 0;}#sk-container-id-3 div.sk-serial {display: flex;flex-direction: column;align-items: center;background-color: white;padding-right: 0.2em;padding-left: 0.2em;position: relative;}#sk-container-id-3 div.sk-item {position: relative;z-index: 1;}#sk-container-id-3 div.sk-parallel {display: flex;align-items: stretch;justify-content: center;background-color: white;position: relative;}#sk-container-id-3 div.sk-item::before, #sk-container-id-3 div.sk-parallel-item::before {content: \"\";position: absolute;border-left: 1px solid gray;box-sizing: border-box;top: 0;bottom: 0;left: 50%;z-index: -1;}#sk-container-id-3 div.sk-parallel-item {display: flex;flex-direction: column;z-index: 1;position: relative;background-color: white;}#sk-container-id-3 div.sk-parallel-item:first-child::after {align-self: flex-end;width: 50%;}#sk-container-id-3 div.sk-parallel-item:last-child::after {align-self: flex-start;width: 50%;}#sk-container-id-3 div.sk-parallel-item:only-child::after {width: 0;}#sk-container-id-3 div.sk-dashed-wrapped {border: 1px dashed gray;margin: 0 0.4em 0.5em 0.4em;box-sizing: border-box;padding-bottom: 0.4em;background-color: white;}#sk-container-id-3 div.sk-label label {font-family: monospace;font-weight: bold;display: inline-block;line-height: 1.2em;}#sk-container-id-3 div.sk-label-container {text-align: center;}#sk-container-id-3 div.sk-container {/* jupyter's `normalize.less` sets `[hidden] { display: none; }` but bootstrap.min.css set `[hidden] { display: none !important; }` so we also need the `!important` here to be able to override the default hidden behavior on the sphinx rendered scikit-learn.org. See: https://github.com/scikit-learn/scikit-learn/issues/21755 */display: inline-block !important;position: relative;}#sk-container-id-3 div.sk-text-repr-fallback {display: none;}</style><div id=\"sk-container-id-3\" class=\"sk-top-container\"><div class=\"sk-text-repr-fallback\"><pre>DecisionTreeRegressor(max_depth=3)</pre><b>In a Jupyter environment, please rerun this cell to show the HTML representation or trust the notebook. <br />On GitHub, the HTML representation is unable to render, please try loading this page with nbviewer.org.</b></div><div class=\"sk-container\" hidden><div class=\"sk-item\"><div class=\"sk-estimator sk-toggleable\"><input class=\"sk-toggleable__control sk-hidden--visually\" id=\"sk-estimator-id-3\" type=\"checkbox\" checked><label for=\"sk-estimator-id-3\" class=\"sk-toggleable__label sk-toggleable__label-arrow\">DecisionTreeRegressor</label><div class=\"sk-toggleable__content\"><pre>DecisionTreeRegressor(max_depth=3)</pre></div></div></div></div></div>"
      ],
      "text/plain": [
       "DecisionTreeRegressor(max_depth=3)"
      ]
     },
     "execution_count": 36,
     "metadata": {},
     "output_type": "execute_result"
    }
   ],
   "source": [
    "dtr.fit(x_train,y_train)"
   ]
  },
  {
   "cell_type": "code",
   "execution_count": 37,
   "id": "3c505a1e",
   "metadata": {},
   "outputs": [],
   "source": [
    "y_pred3=dtr.predict(x_test)"
   ]
  },
  {
   "cell_type": "markdown",
   "id": "f3125848",
   "metadata": {},
   "source": [
    "# R2_Score"
   ]
  },
  {
   "cell_type": "code",
   "execution_count": 38,
   "id": "d43ba1e2",
   "metadata": {},
   "outputs": [
    {
     "data": {
      "text/plain": [
       "0.9512236573759347"
      ]
     },
     "execution_count": 38,
     "metadata": {},
     "output_type": "execute_result"
    }
   ],
   "source": [
    "r2_score(y_test,y_pred3) # less accuracy than Linear,sgd Regressor"
   ]
  },
  {
   "cell_type": "code",
   "execution_count": 39,
   "id": "c6556374",
   "metadata": {},
   "outputs": [
    {
     "name": "stdout",
     "output_type": "stream",
     "text": [
      "mean_absolute_error 4.8\n"
     ]
    }
   ],
   "source": [
    "print('mean_absolute_error',mean_absolute_error(y_test,y_pred3))"
   ]
  },
  {
   "cell_type": "code",
   "execution_count": 40,
   "id": "9400b71b",
   "metadata": {},
   "outputs": [],
   "source": [
    "from sklearn.tree import plot_tree "
   ]
  },
  {
   "cell_type": "code",
   "execution_count": 41,
   "id": "095c6de0",
   "metadata": {},
   "outputs": [
    {
     "data": {
      "image/png": "[encoded data removed]",
      "text/plain": [
       "<Figure size 2600x1500 with 1 Axes>"
      ]
     },
     "metadata": {},
     "output_type": "display_data"
    }
   ],
   "source": [
    "plt.figure(figsize=(26,15))\n",
    "plot_tree(dtr,fontsize=13)\n",
    "plt.show()"
   ]
  },
  {
   "cell_type": "markdown",
   "id": "ec45b7e2",
   "metadata": {},
   "source": [
    "# predict Score if student studies for 9.15 hrs/day? (According to Decision Tree Regressor Model)"
   ]
  },
  {
   "cell_type": "code",
   "execution_count": 49,
   "id": "b55f7ae1",
   "metadata": {},
   "outputs": [
    {
     "name": "stdout",
     "output_type": "stream",
     "text": [
      "pred_score if student studies for 9.15 hrs/day [91.5]\n"
     ]
    }
   ],
   "source": [
    "pred_score=dtr.predict([[9.15]])\n",
    "print('pred_score if student studies for 9.15 hrs/day',pred_score) # according to Decision tree model"
   ]
  },
  {
   "cell_type": "markdown",
   "id": "5bb632f0",
   "metadata": {},
   "source": [
    "# My Class"
   ]
  },
  {
   "cell_type": "code",
   "execution_count": 42,
   "id": "bb4e3982",
   "metadata": {},
   "outputs": [],
   "source": [
    "class ApnaGD:\n",
    "    def __init__(self,LR,epoch):\n",
    "        self.LR=LR\n",
    "        self.m=10\n",
    "        self.b=29\n",
    "        self.epoch=epoch\n",
    "#       \n",
    "        \n",
    "        \n",
    "    def fit(self,x,y):\n",
    "        for i in range(self.epoch):\n",
    "#             y_pred=self.m*x_train+self.b\n",
    "            pd_b1=-2*np.sum(y-self.m*x.ravel()-self.b)\n",
    "#             print(pd_b)\n",
    "            pd_m1=-2*np.sum((y-self.m*x.ravel()-self.b)*(x.ravel()))\n",
    "#             print(pd_m)\n",
    "            self.b=self.b - (self.LR*pd_b1)\n",
    "            self.m=self.m - (self.LR*pd_m1)\n",
    "        print(self.b)\n",
    "        print(self.m)\n",
    "#             print(y_pred)\n",
    "    def predict(self,x):\n",
    "        return self.m * x + self.b\n",
    "            "
   ]
  },
  {
   "cell_type": "code",
   "execution_count": 43,
   "id": "a44a8f32",
   "metadata": {},
   "outputs": [
    {
     "name": "stdout",
     "output_type": "stream",
     "text": [
      "1.5889152399886975e+240\n",
      "9.822864236833448e+240\n"
     ]
    }
   ],
   "source": [
    "gd_pred=ApnaGD(0.01,100)\n",
    "gd_pred.fit(x_train,y_train)\n",
    "y_pred=gd_pred.predict(x_test)"
   ]
  },
  {
   "cell_type": "markdown",
   "id": "6ce9a9dd",
   "metadata": {},
   "source": [
    "# you can check cost,slop,intercept after one epoch and select the best value of slop and intercept in which we have least minimum cost value "
   ]
  },
  {
   "cell_type": "markdown",
   "id": "f1d4d876",
   "metadata": {},
   "source": [
    "# Another Myclass"
   ]
  },
  {
   "cell_type": "code",
   "execution_count": 44,
   "id": "90611179",
   "metadata": {},
   "outputs": [],
   "source": [
    "y_pred1=np.array([])\n",
    "\n",
    "def gredient_loss(x,y):\n",
    "    iteration=70\n",
    "    linear_rate= 0.001 \n",
    "    m=c=0.0\n",
    "    n=len(x)\n",
    "    for i in range(iteration):\n",
    "        y_pred=m*x+c\n",
    "        cost=(1/n) * sum([val**2 for val in (y-y_pred)])\n",
    "        mp=-(2/n)*sum(x*(y-y_pred))\n",
    "        cp=-(2/n)*sum(y-y_pred)\n",
    "        \n",
    "        m=m-linear_rate*(mp)\n",
    "        c=c-linear_rate*(cp)\n",
    "        \n",
    "        print(\"weigth\",m)\n",
    "        print(\"intercept\",c)\n",
    "        print(\"cost\",cost)\n",
    "        print()\n",
    "        global y_pred1\n",
    "        y_pred1=np.array([])\n",
    "        y_pred1=np.append(y_pred1,y_pred)\n",
    "        print(\"pred_y_value is :\",y_pred1)"
   ]
  },
  {
   "cell_type": "markdown",
   "id": "10c0fcf6",
   "metadata": {},
   "source": [
    "# You can Check it when loss is minimum (slop and intercept value have almost samed as SGD Regressor Class)\n",
    "# we have found the Slop and intercept value when we reached global minima of slop and intercept with respect to Loss "
   ]
  },
  {
   "cell_type": "code",
   "execution_count": 45,
   "id": "85174016",
   "metadata": {},
   "outputs": [
    {
     "name": "stdout",
     "output_type": "stream",
     "text": [
      "weigth 0.6357120000000002\n",
      "intercept 0.10296000000000001\n",
      "cost 3264.04\n",
      "\n",
      "pred_y_value is : [0. 0. 0. 0. 0. 0. 0. 0. 0. 0. 0. 0. 0. 0. 0. 0. 0. 0. 0. 0. 0. 0. 0. 0.\n",
      " 0.]\n",
      "weigth 1.2306711174912004\n",
      "intercept 0.19934170291200004\n",
      "cost 2862.601690412808\n",
      "\n",
      "pred_y_value is : [1.69224   3.3450912 2.1372384 5.506512  2.327952  1.056528  5.9515104\n",
      " 3.599376  5.3793696 1.8193824 4.9979424 3.8536608 2.963664  2.2008096\n",
      " 0.8022432 5.7607968 1.69224   1.3108128 3.9808032 4.8072288 1.8193824\n",
      " 3.1543776 2.5186656 4.4893728 5.0615136]\n",
      "weigth 1.7874896312296784\n",
      "intercept 0.28956677222444427\n",
      "cost 2510.978649660599\n",
      "\n",
      "pred_y_value is : [ 3.2760195   6.4757644   4.13748928 10.6600462   4.50669061  2.04534838\n",
      " 11.52151598  6.96803285 10.41391198  3.52215372  9.67550931  7.4603013\n",
      "  5.73736173  4.26055639  1.55307993 11.15231465  3.2760195   2.53761683\n",
      "  7.70643552  9.30630797  3.52215372  6.10656307  4.87589195  8.69097241\n",
      "  9.79857642]\n",
      "weigth 2.3086123717705553\n",
      "intercept 0.37402984261654904\n",
      "cost 2202.989201351535\n",
      "\n",
      "pred_y_value is : [ 4.75829085  9.40576389  6.00953359 15.48322864  6.54578048  2.97080122\n",
      " 16.73447138 10.12075974 15.12573071  5.11578878 14.05323693 10.8357556\n",
      "  8.33327011  6.18828256  2.25580537 16.19822449  4.75829085  3.68579707\n",
      " 11.19325352 13.51699004  5.11578878  8.869517    7.08202737 12.62324523\n",
      " 14.2319859 ]\n",
      "weigth 2.7963274549702506\n",
      "intercept 0.4531002525166879\n",
      "cost 1933.2187656883502\n",
      "\n",
      "pred_y_value is : [ 6.14556077 12.14795294  7.76158943 19.997235    8.45417314  3.8369484\n",
      " 21.61326366 13.07139789 19.53551253  6.60728325 18.15034511 13.99484284\n",
      " 10.76278552  7.99245067  2.91350345 20.92067995  6.14556077  4.76039335\n",
      " 14.45656531 17.45776139  6.60728325 11.45536923  9.14675686 16.30345521\n",
      " 18.38120634]\n",
      "weigth 3.25277632746659\n",
      "intercept 0.5271236656030327\n",
      "cost 1696.924668916767\n",
      "\n",
      "pred_y_value is : [ 7.44391889 14.71437027  9.40134811 24.22188362 10.24024634  4.64759143\n",
      " 26.17931284 15.83290125 23.66261813  8.00318438 21.98482166 16.95143224\n",
      " 13.0365738   9.68098085  3.52906045 25.3404146   7.44391889  5.76612242\n",
      " 17.51069773 21.14592342  8.00318438 13.87547204 11.07914458 19.74775969\n",
      " 22.2644544 ]\n",
      "weigth 3.679963168239287\n",
      "intercept 0.5964235883653015\n",
      "cost 1489.9527651599744\n",
      "\n",
      "pred_y_value is : [ 8.65906448 17.11628294 10.93600791 28.17572245 11.91184081  5.40628816\n",
      " 30.45266588 18.41739347 27.52516718  9.30961975 25.57350139 19.718504\n",
      " 15.16461714 11.26128555  4.10517763 29.47683298  8.65906448  6.70739869\n",
      " 20.36905926 24.59766849  9.30961975 16.14045004 12.88767371 22.97128033\n",
      " 25.89877902]\n",
      "weigth 4.079763687526318\n",
      "intercept 0.6613027903901403\n",
      "cost 1308.6644048165128\n",
      "\n",
      "pred_y_value is : [ 9.79633151 19.36423575 12.37230573 31.87611052 13.47629468  6.11636834\n",
      " 34.45208474 20.83622101 31.14011788 10.53232414 28.93213998 22.30820628\n",
      " 17.15625785 12.74030204  4.64438307 33.34809579  9.79633151  7.58835361\n",
      " 23.04419891 27.82815103 10.53232414 18.2602468  14.58028363 25.98816945\n",
      " 29.3001363 ]\n",
      "weigth 4.453933361725953\n",
      "intercept 0.7220446336055962\n",
      "cost 1149.8724655958279\n",
      "\n",
      "pred_y_value is : [10.86071201 21.4680976  13.71654659 35.33929413 14.9404757   6.78094832\n",
      " 38.19512872 23.10000307 34.5233414  11.67666475 32.07548318 24.73190855\n",
      " 19.02023938 14.12452296  5.14904285 36.97119961 10.86071201  8.4128538\n",
      " 25.54786128 30.85155408 11.67666475 20.24416849 16.1644048  28.81167223\n",
      " 32.48345955]\n",
      "weigth 4.804115140437985\n",
      "intercept 0.7789143163204441\n",
      "cost 1010.7853215906381\n",
      "\n",
      "pred_y_value is : [11.85687804 23.43710478 14.97463139 38.58047821 16.3108114   7.40294468\n",
      " 41.69823156 25.21867812 37.68969154 12.74766471 35.01733152 27.00025147\n",
      " 20.76474476 15.42002473  5.62137133 40.36205155 11.85687804  9.18451802\n",
      " 27.89103814 33.68115151 12.74766471 22.10092477 17.64699141 31.45418483\n",
      " 35.46272486]\n",
      "weigth 5.131846659480287\n",
      "intercept 0.8321600375200529\n",
      "cost 888.9577653392462\n",
      "\n",
      "pred_y_value is : [12.78920217 25.27990153 16.15208277 41.61389301 17.59331731  7.98508703\n",
      " 44.97677361 27.20154759 40.65306998 13.7500252  37.7706009  29.12319364\n",
      " 22.39743245 16.63249428  6.06344097 43.53553907 12.78920217  9.90673308\n",
      " 30.08401667 36.32936636 13.7500252  23.83866699 19.03455185 33.92730879\n",
      " 38.25101241]\n",
      "weigth 5.438566991547875\n",
      "intercept 0.8820140865303824\n",
      "cost 782.248020067353\n",
      "\n",
      "pred_y_value is : [13.66177669 27.004578   17.25406935 44.45285664 18.79362335  8.52993003\n",
      " 48.0451493  29.05731666 43.42648731 14.68814602 40.34737932 31.11005533\n",
      " 23.92547001 17.76725401  6.47719136 46.50559531 13.66177669 10.58266869\n",
      " 32.13642466 38.80782532 14.68814602 25.465024   20.33317734 36.24190199\n",
      " 40.86056398]\n",
      "weigth 5.725622964151803\n",
      "intercept 0.9286938628340458\n",
      "cost 688.7800863668172\n",
      "\n",
      "pred_y_value is : [14.47843157 28.61870574 18.28542846 47.10983351 19.91699856  9.03986457\n",
      " 50.91683041 30.79413254 46.02212012 15.56614496 42.75897992 32.96955934\n",
      " 25.35556555 18.82928516  6.86443778 49.28526031 14.47843157 11.21529137\n",
      " 34.05727273 41.12740982 15.56614496 26.98713565 21.54856865 38.40812633\n",
      " 43.30283662]\n",
      "weigth 5.994275072575436\n",
      "intercept 0.97240283051572\n",
      "cost 606.9107613504002\n",
      "\n",
      "pred_y_value is : [15.24275127 30.12937098 19.25068735 49.59648906 20.96837424  9.51712831\n",
      " 53.60442513 32.41962017 48.45136447 16.38787587 45.01599069 34.70986935\n",
      " 26.6939972  19.82324964  7.22687912 51.88673824 15.24275127 11.80737749\n",
      " 35.85499394 43.2983038  16.38787587 28.41168409 22.68606113 40.43549232\n",
      " 45.58855298]\n",
      "weigth 6.24570301380766\n",
      "intercept 1.0133314115271923\n",
      "cost 535.200750465601\n",
      "\n",
      "pred_y_value is : [15.95809051 31.5432057  20.15408306 51.92374095 21.95236558  9.96381544\n",
      " 56.1197335  33.94091573 50.72488593 17.15694553 47.12832089 36.33862576\n",
      " 27.94664066 20.75351057  7.56610541 54.32145098 15.95809051 12.36152547\n",
      " 37.53748077 45.33003837 17.15694553 29.74492318 23.75064811 42.33290083\n",
      " 47.7277484 ]\n",
      "weigth 6.481010865748575\n",
      "intercept 1.05165782169373\n",
      "cost 472.3893641013269\n",
      "\n",
      "pred_y_value is : [16.62758895 32.86641678 20.99958106 54.10180703 22.87329196 10.38188593\n",
      " 58.47379914 35.36469799 52.85266643 17.87672955 49.10524462 37.86297919\n",
      " 29.11899497 21.62415136  7.88360473 56.60008823 16.62758895 12.88016714\n",
      " 39.1121198  47.23153371 17.87672955 30.99270588 24.74700286 44.10868221\n",
      " 49.72981492]\n",
      "weigth 6.701231934425869\n",
      "intercept 1.0875488531320787\n",
      "cost 417.37235414327955\n",
      "\n",
      "pred_y_value is : [17.25418499 34.10481324 21.79089259 56.14025018 23.73519585 10.77317412\n",
      " 60.67695779 36.69721758 54.84404801 18.55038716 50.95544149 39.28962193\n",
      " 30.21620672 22.43899368  8.18076977 58.73265453 17.25418499 13.36557847\n",
      " 40.5858241  49.01113823 18.55038716 32.16050998 25.67949911 45.7706328\n",
      " 51.60354257]\n",
      "weigth 6.907333290502502\n",
      "intercept 1.1211606065151296\n",
      "cost 369.18250083553846\n",
      "\n",
      "pred_y_value is : [17.84062869 35.26383172 22.53149104 58.0480203  24.54186062 11.13939675\n",
      " 62.73888265 37.94432449 56.70777391 19.18087508 52.68703475 40.62481727\n",
      " 31.24309256 23.20161424  8.45890398 60.72851307 17.84062869 13.81988953\n",
      " 41.96506365 50.67666517 19.18087508 33.25346214 26.5522302  47.3260492\n",
      " 53.35715794]\n",
      "weigth 7.100220014992301\n",
      "intercept 1.1526391763981023\n",
      "cost 326.97260865734063\n",
      "\n",
      "pred_y_value is : [18.38949383 36.34856039 23.22462714 59.83349358 25.29682712 11.48216054\n",
      " 64.66862688 39.1114937  58.45202692 19.77096049 54.30762694 41.87442702\n",
      " 32.20416041 23.91536047  8.71922723 62.59642689 18.38949383 14.24509386\n",
      " 43.25589368 52.23542696 19.77096049 34.2763604  27.36902711 48.78176031\n",
      " 54.99836027]\n",
      "weigth 7.280739172823331\n",
      "intercept 1.1821212926150233\n",
      "cost 290.00061227554204\n",
      "\n",
      "pred_y_value is : [18.90318921 37.36376125 23.87334322 61.5045093  26.00340923 11.8029692\n",
      " 66.47466331 40.20384926 60.0844653  20.32323322 55.82433329 43.04393726\n",
      " 33.10362924 24.58336523  8.96288119 64.34459731 18.90318921 14.6430572\n",
      " 44.46398127 53.69426729 20.32323322 35.23369525 28.13347523 50.14415728\n",
      " 56.53435529]\n",
      "weigth 7.449683531694141\n",
      "intercept 1.209734920561412\n",
      "cost 257.6165307292416\n",
      "\n",
      "pred_y_value is : [19.38396922 38.31389107 24.48048665 63.06840426 26.6647084  12.10323005\n",
      " 68.16492168 41.22618674 61.61225643 20.84011706 57.24381292 44.13848241\n",
      " 33.94544757 25.20856056  9.19093438 65.98069993 19.38396922 15.01552572\n",
      " 45.59463025 55.05959117 20.84011706 36.12966932 28.84893015 51.41922159\n",
      " 57.97188684]\n",
      "weigth 7.607795042549708\n",
      "intercept 1.2355998229985872\n",
      "cost 229.25104049574693\n",
      "\n",
      "pred_y_value is : [19.83394375 39.20312093 25.04872222 64.53204494 27.28362728 12.38426022\n",
      " 69.74682341 42.18299434 63.04210823 21.32388046 58.57229811 45.16286776\n",
      " 34.73331081 25.79369058  9.40438681 67.51191835 19.83394375 15.36413363\n",
      " 46.65280446 56.33739306 21.32388046 36.96821587 29.51853234 52.61255129\n",
      " 59.31726647]\n",
      "weigth 7.755768096957362\n",
      "intercept 1.2598280858460718\n",
      "cost 204.4054665476499\n",
      "\n",
      "pred_y_value is : [20.25508743 40.03535454 25.58054396 65.90185768 27.86288247 12.64729239\n",
      " 71.22731421 43.07847256 64.38029868 21.77664644 59.81562165 46.12159057\n",
      " 35.47067751 26.34132346  9.60417437 68.9449757  20.25508743 15.6904104\n",
      " 47.64314958 57.53328314 21.77664644 37.75301603 30.14522098 53.72938562\n",
      " 60.57640115]\n",
      "weigth 7.894252575683512\n",
      "intercept 1.282524610270479\n",
      "cost 182.6430154396617\n",
      "\n",
      "pred_y_value is : [20.64924833 40.81424538 26.078286   67.18385691 28.40501643 12.89348023\n",
      " 72.61289458 43.91655262 65.63270329 22.20040195 60.97924243 47.01885986\n",
      " 36.16078452 26.85386281  9.79117299 70.28616415 20.64924833 15.99578747\n",
      " 48.57001348 58.652512   22.20040195 38.48751495 30.73174685 54.77462795\n",
      " 61.75481924]\n",
      "weigth 8.023856701855273\n",
      "intercept 1.3037875732312865\n",
      "cost 163.5810962992461\n",
      "\n",
      "pred_y_value is : [21.01815605 41.54321275 26.54413285 68.3836715  28.91240863 13.12390347\n",
      " 73.90964831 44.70091378 66.80482099 22.59700656 62.06826944 47.85861481\n",
      " 36.8066612  27.33355811  9.96620244 71.54137253 21.01815605 16.2816045\n",
      " 49.43746532 59.69999367 22.59700656 39.17493697 31.2806844  55.75286738\n",
      " 62.8576947 ]\n",
      "weigth 8.1451497112332\n",
      "intercept 1.3237088585054266\n",
      "cost 146.88459472089428\n",
      "\n",
      "pred_y_value is : [21.36342933 42.22545675 26.98012902 69.50656954 29.38728603 13.33957263\n",
      " 75.12326923 45.43499943 67.9017982  22.96820067 63.08748418 48.64454211\n",
      " 37.41114273 27.78251469 10.13002995 72.71611222 21.36342933 16.54911531\n",
      " 50.24931345 60.68032717 22.96820067 39.81829974 31.79444304 56.66839882\n",
      " 63.88986985]\n",
      "weigth 8.258664351318384\n",
      "intercept 1.342374460083014\n",
      "cost 132.25998131631803\n",
      "\n",
      "pred_y_value is : [21.68658314 42.86397239 27.38818793 70.5574814  29.83173285 13.54143343\n",
      " 76.2590862  46.12203227 68.92845146 23.31561308 64.04136164 49.38009215\n",
      " 37.97688256 28.20270291 10.28337354 73.81554129 21.68658314 16.79949331\n",
      " 51.0091221  61.59781672 23.31561308 40.42042747 32.27527776 57.52524187\n",
      " 64.85587661]\n",
      "weigth 8.364899220265697\n",
      "intercept 1.3598648597052325\n",
      "cost 119.45015134644109\n",
      "\n",
      "pred_y_value is : [21.98903534 43.46156265 27.77010038 71.54102145 30.24769969 13.73037099\n",
      " 77.32208649 46.76502839 69.88928858 23.64076821 64.93408997 50.06849413\n",
      " 38.50636404 28.59596682 10.42690525 74.84448719 21.98903534 17.03383673\n",
      " 51.720227   62.45649066 23.64076821 40.98396335 32.725299   58.32715848\n",
      " 65.7599564 ]\n",
      "weigth 8.464320955871681\n",
      "intercept 1.3762553802018787\n",
      "cost 108.22990471378293\n",
      "\n",
      "pred_y_value is : [22.27211291 44.02085088 28.12754236 72.46150823 30.63701213 13.90721369\n",
      " 78.31693769 47.36681057 70.78852839 23.94509275 65.76958886 50.71277026\n",
      " 39.00191135 28.96403229 10.561254   75.80746792 22.27211291 17.25317338\n",
      " 52.3857501  63.26011909 23.94509275 41.51138112 33.1464819  59.07766948\n",
      " 66.60607878]\n",
      "weigth 8.557366284247381\n",
      "intercept 1.391616516179817\n",
      "cost 98.40198685163472\n",
      "\n",
      "pred_y_value is : [22.53705777 44.54429226 28.46208244 73.32298351 31.00137873 14.07273681\n",
      " 79.24800817 47.93002064 71.63011931 24.22992196 66.55152674 51.31574902\n",
      " 39.46569968 29.30851453 10.68700843 76.70871189 22.53705777 17.4584652\n",
      " 53.00861321 64.01223045 24.22992196 42.00499597 33.54067501 59.78006998\n",
      " 67.39795884]\n",
      "weigth 8.644443937170337\n",
      "intercept 1.4060142435141616\n",
      "cost 89.79362090721855\n",
      "\n",
      "pred_y_value is : [22.78503223 45.03418457 28.77518863 74.12922993 31.34239851 14.22766594\n",
      " 80.11938633 48.45713108 72.41775668 24.49650548 67.2833369  51.88007759\n",
      " 39.8997648  29.63092525 10.80471943 77.55217645 22.78503223 17.65061246\n",
      " 53.59155085 64.71612702 24.49650548 42.46697468 33.9096084  60.43744388\n",
      " 68.13907353]\n",
      "weigth 8.725936446533499\n",
      "intercept 1.4195103090009378\n",
      "cost 82.25347025318058\n",
      "\n",
      "pred_y_value is : [23.01712409 45.49267832 29.06823484 74.88378771 31.66156802 14.37268015\n",
      " 80.93489847 48.9504559  73.15489892 24.74601287 67.96823256 52.40823347\n",
      " 40.30601196 29.93267924 10.91490257 78.34156528 23.01712409 17.83045772\n",
      " 54.13712226 65.37489938 24.74601287 42.89934514 34.2549012  61.05267741\n",
      " 68.83267695]\n",
      "weigth 8.802201823769188\n",
      "intercept 1.432162501442884\n",
      "cost 75.64897792711015\n",
      "\n",
      "pred_y_value is : [23.23435143 45.92178619 29.34250694 75.5899701  31.96028787 14.50841498\n",
      " 81.69812562 49.41216076 73.84478282 24.97953871 68.60922095 52.90253534\n",
      " 40.68622432 30.21510058 11.0180404  79.08034468 23.23435143 17.99878956\n",
      " 54.64772263 65.99144001 24.97953871 43.30400525 34.57806881 61.62847179\n",
      " 69.48181459]\n",
      "weigth 8.873575131621248\n",
      "intercept 1.444024905358536\n",
      "cost 69.86403622533449\n",
      "\n",
      "pred_y_value is : [23.43766706 46.3233918  29.59920834 76.250878   32.23986888 14.63546524\n",
      " 82.41241928 49.84427253 74.49043764 25.19810743 69.20911654 53.36515326\n",
      " 41.04207071 30.47942852 11.11458451 79.77175873 23.43766706 18.15634597\n",
      " 55.12559363 66.568456   25.19810743 43.68273126 34.88052943 62.16735509\n",
      " 70.08933673]\n",
      "weigth 8.940369955165922\n",
      "intercept 1.4551481384284475\n",
      "cost 64.79694548148237\n",
      "\n",
      "pred_y_value is : [23.62796273 46.69925808 29.83946533 76.86941352 32.50153787 14.7543876\n",
      " 83.08091612 50.24868813 75.0946985  25.40267776 69.77055342 53.79811818\n",
      " 41.375113   30.72682284 11.20495755 80.41884358 23.62796273 18.30381766\n",
      " 55.57283321 67.10848088 25.40267776 44.03718554 35.16361041 62.67169331\n",
      " 70.65791093]\n",
      "weigth 9.002879778539656\n",
      "intercept 1.4655795737210073\n",
      "cost 60.358626144301425\n",
      "\n",
      "pred_y_value is : [23.80607303 47.05103491 30.06433199 77.44829276 32.74644298 14.86570307\n",
      " 83.70655173 50.62718289 75.66021877 25.59414702 70.29599679 54.20333087\n",
      " 41.68681294 30.95836899 11.28955509 81.02444074 23.80607303 18.44185105\n",
      " 55.99140486 67.61388581 25.59414702 44.36892392 35.42855397 63.14370083\n",
      " 71.19003379]\n",
      "weigth 9.06137927341805\n",
      "intercept 1.4753635476734839\n",
      "cost 56.47105272231706\n",
      "\n",
      "pred_y_value is : [23.97277902 47.38026644 30.27479487 77.99005769 32.9756588  14.96989924\n",
      " 84.29207354 50.98141836 76.18948174 25.77335498 70.78775387 54.58257027\n",
      " 41.97853858 31.17508284 11.36874733 81.5912096  23.97277902 18.57105115\n",
      " 56.38314622 68.08688993 25.77335498 44.67940251 35.67652273 63.58545005\n",
      " 71.68804185]\n",
      "weigth 9.116125504902755\n",
      "intercept 1.4845415547413945\n",
      "cost 53.06588206343258\n",
      "\n",
      "pred_y_value is : [24.12881173 47.68839784 30.47177722 78.49708737 33.190191   15.06743246\n",
      " 84.84005286 51.31294955 76.68481152 25.94108759 71.24798395 54.93750126\n",
      " 42.25157028 31.37791515 11.44288075 82.12163908 24.12881173 18.69198417\n",
      " 56.74977712 68.52957017 25.94108759 44.96998406 35.90860479 63.99888053\n",
      " 72.15412188]\n",
      "weigth 9.16735906011049\n",
      "intercept 1.4931524295707665\n",
      "cost 50.0832518540588\n",
      "\n",
      "pred_y_value is : [24.27485532 47.97678163 30.65614317 78.97160835 33.39098082 15.15872981\n",
      " 85.3528962  51.62323183 77.14838325 26.09808042 71.67870794 55.26968203\n",
      " 42.50710633 31.56775572 11.51227961 82.61805855 24.27485532 18.80518001\n",
      " 57.09290713 68.94387029 26.09808042 45.24194398 36.12581847 64.38580754\n",
      " 72.59032049]\n",
      "weigth 9.215305104419025\n",
      "intercept 1.5012325174930774\n",
      "cost 47.47072821489157\n",
      "\n",
      "pred_y_value is : [24.41155008 48.24668364 30.82870142 79.41570444 33.57890914 15.24419102\n",
      " 85.83285578 51.91362726 77.58223263 26.24502189 72.08181719 55.58057088\n",
      " 42.7462682  31.74543733 11.5772474  83.08264806 24.41155008 18.91113464\n",
      " 57.4140427  69.33160947 26.24502189 45.49647592 36.32911686 64.74792994\n",
      " 72.9985531 ]\n",
      "weigth 9.260174370007324\n",
      "intercept 1.5088158340913949\n",
      "cost 45.1823838916349\n",
      "\n",
      "pred_y_value is : [24.53949528 48.49928855 30.99020885 79.83132591 33.75480038 15.32419017\n",
      " 86.28203948 52.18541059 77.98826488 26.3825563  72.45908182 55.87153263\n",
      " 42.97010549 31.91173936 11.63806813 83.51744795 24.53949528 19.01031222\n",
      " 57.71459365 69.69449029 26.3825563  45.73469702 36.51939191 65.08683774\n",
      " 73.38061233]\n",
      "weigth 9.302164081029845\n",
      "intercept 1.5159342145382586\n",
      "cost 43.177990834882465\n",
      "\n",
      "pred_y_value is : [24.65925176 48.73570512 31.14137382 80.22029798 33.91942613 15.39907739\n",
      " 86.70242004 52.43977487 78.36826311 26.51128663 72.81215848 56.14384462\n",
      " 43.1796005  32.06739126 11.69500764 83.92436773 24.65925176 19.10314714\n",
      " 57.99587949 70.03410617 26.51128663 45.95765281 36.69747844 65.40401899\n",
      " 73.73817592]\n",
      "weigth 9.341458819486775\n",
      "intercept 1.522617453360939\n",
      "cost 41.4223129743773\n",
      "\n",
      "pred_y_value is : [24.77134442 48.95697103 31.28285927 80.5843289  34.0735085  15.46918034\n",
      " 87.09584376 52.67783666 78.72389609 26.63177723 73.14259764 56.39870229\n",
      " 43.37567258 32.21307568 11.7483147  84.30519454 24.77134442 19.19004597\n",
      " 58.25913511 70.35194841 26.63177723 46.1663218  36.86415772 65.70086637\n",
      " 74.07281405]\n",
      "weigth 9.378231335591584\n",
      "intercept 1.5288934352476815\n",
      "cost 39.88448675432878\n",
      "\n",
      "pred_y_value is : [24.8762645  49.16405743 31.41528568 80.92501742 34.21772332 15.53480568\n",
      " 87.46403859 52.90064096 79.05672566 26.74455627 73.45185036 56.63722449\n",
      " 43.55918214 32.34943156 11.79822215 84.66160095 24.8762645  19.27138921\n",
      " 58.50551625 70.64941272 26.74455627 46.36161979 37.02016097 65.97868331\n",
      " 74.38599625]\n",
      "weigth 9.412643306193694\n",
      "intercept 1.5347882574692162\n",
      "cost 38.537478539342054\n",
      "\n",
      "pred_y_value is : [24.97447177 49.35787325 31.53923371 81.24385979 34.35270311 15.59624044\n",
      " 87.80862172 53.10916578 79.36821352 26.85011804 73.74127472 56.86045832\n",
      " 43.73093445 32.47705684 11.8449479  84.99515232 24.97447177 19.34753297\n",
      " 58.73610458 70.92780532 26.85011804 46.54440385 37.16617251 66.23868965\n",
      " 74.67909785]\n",
      "weigth 9.444846044585905\n",
      "intercept 1.5403263444529922\n",
      "cost 37.35760935193161\n",
      "\n",
      "pred_y_value is : [25.06639652 49.53926912 31.65524684 81.54225636 34.47903983 15.65375322\n",
      " 88.13110667 53.30432644 79.6597277  26.94892518 74.01214172 57.06938376\n",
      " 43.89168314 32.59651117 11.88869589 85.30731368 25.06639652 19.41881054\n",
      " 58.95191243 71.18834872 26.94892518 46.71547613 37.30283282 66.48202707\n",
      " 74.95340605]\n",
      "weigth 9.474981164812874\n",
      "intercept 1.545530555013157\n",
      "cost 36.324138586307576\n",
      "\n",
      "pred_y_value is : [25.15244146 49.70904117 31.76383369 81.82151772 34.5972875  15.70759541\n",
      " 88.43290995 53.48697959 79.93254851 27.04141066 74.26564089 57.26491801\n",
      " 44.04213355 32.70831829 11.92965699 85.59945614 25.15244146 19.48553383\n",
      " 59.15388722 71.43218707 27.04141066 46.87558736 37.43074131 66.70976405\n",
      " 75.21012549]\n",
      "weigth 9.503181203397117\n",
      "intercept 1.5504222827070464\n",
      "cost 35.41889937995168\n",
      "\n",
      "pred_y_value is : [25.23298347 49.8679345  31.86547028 82.08287046 34.70796463 15.7580023\n",
      " 88.71535727 53.65792696 80.18787422 27.1279797  74.50288552 57.44791943\n",
      " 44.1829458  32.8129684  11.96800984 85.87286292 25.23298347 19.54799477\n",
      " 59.34291566 71.66039117 27.1279797  47.02544015 37.55045898 66.92290059\n",
      " 75.45038364]\n",
      "weigth 9.529570201212122\n",
      "intercept 1.5550215497587796\n",
      "cost 34.625979232664065\n",
      "\n",
      "pred_y_value is : [25.30837529 50.01664642 31.96060213 82.32746251 34.81155649 15.80519409\n",
      " 88.97968935 53.8179189  80.42682627 27.20901153 74.72491755 57.61919138\n",
      " 44.3147377  32.91092025 12.00392161 86.12873499 25.30837529 19.60646657\n",
      " 59.51982762 71.87396319 27.20901153 47.16569206 37.66251086 67.12237259\n",
      " 75.67523567]\n",
      "weigth 9.554264248057123\n",
      "intercept 1.5593470949623118\n",
      "cost 33.93144025823146\n",
      "\n",
      "pred_y_value is : [25.37894705 50.15582958 32.04964619 82.55636826 34.90851725 15.84937685\n",
      " 89.2270674  53.96765766 80.65045422 27.28486109 74.9327121  57.77948574\n",
      " 44.43808746 33.00260321 12.03754877 86.36819634 25.37894705 19.66120493\n",
      " 59.68539978 72.07384104 27.28486109 47.29695852 37.76738831 67.30905594\n",
      " 75.88566912]\n",
      "weigth 9.577371992324416\n",
      "intercept 1.5634164559498627\n",
      "cost 33.32307415062601\n",
      "\n",
      "pred_y_value is : [25.44500772 50.28609476 32.13299269 82.7705932  34.99927196 15.89074347\n",
      " 89.45857818 54.10780046 80.85974035 27.35586056 75.12718181 57.92950616\n",
      " 44.55353621 33.08841911 12.06903777 86.5922989  25.44500772 19.71244917\n",
      " 59.84035901 72.26090253 27.35586056 47.41981549 37.86555124 67.48377041\n",
      " 76.08260823]\n",
      "weigth 9.598995117996763\n",
      "intercept 1.567246046186903\n",
      "cost 32.79018755693867\n",
      "\n",
      "pred_y_value is : [25.50684644 50.40801362 32.21100683 82.97107839 35.08421843 15.92947444\n",
      " 89.67523879 54.23896241 81.05560399 27.42232084 75.3091808  58.06991121\n",
      " 44.66159042 33.16874403 12.09852565 86.80202719 25.50684644 19.76042324\n",
      " 59.98538561 72.4359692  27.42232084 47.53480202 37.95743003 67.6472832\n",
      " 76.266918  ]\n",
      "weigth 9.619228791069064\n",
      "intercept 1.5708512270317299\n",
      "cost 32.323414083814946\n",
      "\n",
      "pred_y_value is : [25.56473384 50.52212115 32.28403042 83.15870455 35.16372896 15.96573872\n",
      " 89.87800113 54.3617192  81.23890553 27.48453286 75.47950845 58.20131724\n",
      " 44.76272408 33.24392994 12.12614068 86.9983026  25.56473384 19.80533677\n",
      " 60.12111627 72.59980992 27.48453286 47.64242261 38.04342749 67.80031236\n",
      " 76.43940797]\n",
      "weigth 9.638162077354204\n",
      "intercept 1.57424637517599\n",
      "cost 31.914549632388212\n",
      "\n",
      "pred_y_value is : [25.6189232  50.62891806 32.35238336 83.33429595 35.238152   15.99969441\n",
      " 90.0677561  54.47660958 81.41045019 27.54276896 75.63891292 58.32430109\n",
      " 44.85738079 33.31430624 12.1520029  87.18198747 25.6189232  19.84738593\n",
      " 60.24814685 72.75314428 27.54276896 47.74314942 38.12392063 67.94352989\n",
      " 76.6008358 ]\n",
      "weigth 9.655878333507363\n",
      "intercept 1.5774449457622395\n",
      "cost 31.55640816683049\n",
      "\n",
      "pred_y_value is : [25.66965157 50.72887297 32.41636502 83.49862403 35.30781365 16.03148949\n",
      " 90.24533749 54.5841378  81.57099162 27.59728398 75.78809437 58.43940263\n",
      " 44.94597572 33.38018123 12.17622466 87.35388886 25.66965157 19.88675432\n",
      " 60.36703505 72.89664575 27.59728398 47.83742435 38.19926227 68.07756471\n",
      " 76.75191058]\n",
      "weigth 9.672455572985502\n",
      "intercept 1.5804595314556371\n",
      "cost 31.242695380872906\n",
      "\n",
      "pred_y_value is : [25.71714078 50.82242445 32.47625561 83.65241078 35.37301911 16.06126245\n",
      " 90.41152561 54.68477578 81.72123511 27.64831645 75.92770811 58.54712711\n",
      " 45.02889745 33.44184345 12.19891111 87.51476211 25.71714078 19.92361378\n",
      " 60.47830278 73.03094461 27.64831645 47.92566095 38.26978261 68.20300545\n",
      " 76.89329595]\n",
      "weigth 9.687966808548682\n",
      "intercept 1.5833019177291192\n",
      "cost 30.96789804129983\n",
      "\n",
      "pred_y_value is : [25.76159846 50.90998295 32.53231737 83.7963319  35.43405404 16.08914289\n",
      " 90.5670508  54.77896518 81.86184079 27.69608958 76.05836744 58.64794741\n",
      " 45.10650961 33.49956292 12.22016066 87.66531413 25.76159846 19.95812512\n",
      " 60.58243853 73.15663077 27.69608958 48.00824628 38.33579071 68.32040299\n",
      " 77.025613  ]\n",
      "weigth 9.702480372806903\n",
      "intercept 1.585983134604769\n",
      "cost 30.72718706303067\n",
      "\n",
      "pred_y_value is : [25.80321894 50.99193264 32.58479571 83.93101979 35.49118575 16.11525213\n",
      " 90.71259656 54.86711936 81.99342643 27.7408123  76.18064634 58.74230609\n",
      " 45.17915256 33.55359239 12.24006541 87.80620651 25.80321894 19.99043885\n",
      " 60.67989945 73.2742563  27.7408123  48.0855426  38.39757579 68.4302729\n",
      " 77.14944302]\n",
      "weigth 9.716060218219754\n",
      "intercept 1.588513505078543\n",
      "cost 30.51633261180872\n",
      "\n",
      "pred_y_value is : [25.84218407 51.06863304 32.63392033 84.0570663  35.54466444 16.13970369\n",
      " 90.84880256 54.94962519 82.11657023 27.78268014 76.29508201 58.83061733\n",
      " 45.24714481 33.60416836 12.25871154 87.93805845 25.84218407 20.02069584\n",
      " 60.77111341 73.38433789 27.78268014 48.15788892 38.45540855 68.53309771\n",
      " 77.26533004]\n",
      "weigth 9.728766197865953\n",
      "intercept 1.5909026904409511\n",
      "cost 30.33162974196718\n",
      "\n",
      "pred_y_value is : [25.87866405 51.14042062 32.6799062  84.17502536 35.59472427 16.16260383\n",
      " 90.97626751 55.02684471 82.23181332 27.82187609 76.40217719 58.91326879\n",
      " 45.31078449 33.65151223 12.27617975 88.06144945 25.87866405 20.04902792\n",
      " 60.85648084 73.48735912 27.82187609 48.22560255 38.50954233 68.62932901\n",
      " 77.37378321]\n",
      "weigth 9.740654328215433\n",
      "intercept 1.593159732692661\n",
      "cost 30.16983326195339\n",
      "\n",
      "pred_y_value is : [25.91281819 51.2076103  32.72295452 84.28541537 35.64158438 16.18405199\n",
      " 91.09555171 55.09911678 82.33966213 27.85857142 76.50240241 58.99062326\n",
      " 45.37035058 33.69583114 12.29254551 88.17692185 25.91281819 20.07555847\n",
      " 60.9363765  73.58377255 27.85857142 48.28898044 38.56021424 68.71938946\n",
      " 77.47527903]\n",
      "weigth 9.751777035057634\n",
      "intercept 1.5952930942412442\n",
      "cost 30.02810068252107\n",
      "\n",
      "pred_y_value is : [25.94479555 51.27049681 32.76325358 84.38872152 35.68544988 16.20414123\n",
      " 91.20717955 55.16675854 82.44059066 27.89292642 76.59619806 59.06302027\n",
      " 45.42610421 33.73731902 12.30787949 88.28498325 25.94479555 20.10040296\n",
      " 61.01115113 73.67400176 27.89292642 48.34830051 38.60764618 68.8036746\n",
      " 77.57026349]\n",
      "weigth 9.762183383665674\n",
      "intercept 1.597310695053344\n",
      "cost 29.903942244594845\n",
      "\n",
      "pred_y_value is : [25.97473568 51.32935597 32.80097961 84.48539789 35.72651272 16.22295865\n",
      " 91.31164182 55.23006679 82.53504249 27.92509109 76.68397626 59.1307776\n",
      " 45.47828975 33.77615731 12.32224783 88.38610871 25.97473568 20.12366946\n",
      " 61.08113301 73.75844315 27.92509109 48.40382286 38.65204583 68.88255464\n",
      " 77.65915397]\n",
      "weigth 9.771919294206906\n",
      "intercept 1.5992199474253725\n",
      "cost 29.795177148277798\n",
      "\n",
      "pred_y_value is : [26.00276915 51.38444595 32.83629752 84.57586946 35.76495254 16.24058577\n",
      " 91.40939782 55.28931931 82.62343278 27.95520583 76.76612275 59.19419266\n",
      " 45.52713592 33.81251586 12.33571242 88.48074281 26.00276915 20.14545912\n",
      " 61.14662934 73.83746773 27.95520583 48.45579094 38.69360755 68.95637604\n",
      " 77.74234109]\n",
      "weigth 9.781027743345561\n",
      "intercept 1.6010277885253918\n",
      "cost 29.6998952134884\n",
      "\n",
      "pred_y_value is : [26.02901818 51.43600835 32.86936169 84.66053395 35.80093748 16.25709889\n",
      " 91.50087745 55.34477607 82.70615009 27.98340204 76.84299851 59.25354378\n",
      " 45.57285677 33.84655362 12.34833117 88.56930167 26.02901818 20.16586661\n",
      " 61.20792764 73.91142272 27.98340204 48.50443256 38.73251327 69.02546308\n",
      " 77.82019044]\n",
      "weigth 9.789548952922567\n",
      "intercept 1.6027407108490452\n",
      "cost 29.616423298206314\n",
      "\n",
      "pred_y_value is : [26.05359715 51.48426928 32.90031657 84.73976361 35.83462489 16.2725694\n",
      " 91.58648303 55.39668038 82.78355806 28.0098027  76.91494141 59.30909147\n",
      " 45.61565263 33.87841934 12.36015831 88.6521747  26.05359715 20.1849805\n",
      " 61.26529702 73.98063309 28.0098027  48.54996096 38.76893321 69.09011922\n",
      " 77.89304419]\n",
      "weigth 9.797520566540928\n",
      "intercept 1.6043647907232512\n",
      "cost 29.543295883944783\n",
      "\n",
      "pred_y_value is : [26.07661309 51.52944037 32.92929736 84.81390681 35.86616205 16.28706414\n",
      " 91.66659108 55.44525995 82.85599702 28.03452288 76.98226765 59.36107953\n",
      " 45.655711   33.90825226 12.37124456 88.72972639 26.07661309 20.20288372\n",
      " 61.31898932 74.04540296 28.03452288 48.59257568 38.80302673 69.15062849\n",
      " 77.96122254]\n",
      "weigth 9.804977814831881\n",
      "intercept 1.6059057149827984\n",
      "cost 29.479229311331043\n",
      "\n",
      "pred_y_value is : [26.09816621 51.57171968 32.9564306  84.88328961 35.89568677 16.30064564\n",
      " 91.741554   55.49072791 82.92378549 28.05767032 77.04527315 59.40973613\n",
      " 45.69320734 33.93618266 12.38163741 88.80229783 26.09816621 20.21965387\n",
      " 61.36924025 74.10601698 28.05767032 48.63246351 38.83494294 69.2072567\n",
      " 78.02502521]\n",
      "weigth 9.811953670127442\n",
      "intercept 1.607368805936958\n",
      "cost 29.423099212844782\n",
      "\n",
      "pred_y_value is : [26.11835025 51.61129257 32.98183472 84.94821714 35.92332807 16.31337244\n",
      " 91.81170161 55.5332837  82.98722158 28.07934582 77.10423489 59.45527482\n",
      " 45.72830588 33.9623325  12.39138131 88.87020827 26.11835025 20.23536356\n",
      " 61.41627039 74.16274154 28.07934582 48.66979923 38.86482141 69.26025264\n",
      " 78.08473267]\n",
      "weigth 9.81847899121836\n",
      "intercept 1.6087590447357265\n",
      "cost 29.373920745973457\n",
      "\n",
      "pred_y_value is : [26.13725298 51.64833252 33.00562055 85.008975   35.94920665 16.32529931\n",
      " 91.87734257 55.57311399 83.04658427 28.09964372 77.15941207 59.49789546\n",
      " 45.76116032 33.98681592 12.40051784 88.93375647 26.13725298 20.25008078\n",
      " 61.46028619 74.21582596 28.09964372 48.70474642 38.89279275 69.30984913\n",
      " 78.14060743]\n"
     ]
    }
   ],
   "source": [
    "x=np.array([2.5,5.1,3.2,8.5,3.5, 1.5,9.2 ,5.5,8.3,2.7,7.7,5.9,4.5,3.3,1.1,8.9,2.5,1.9,6.1,7.4,2.7,4.8,3.8,6.9,7.8])\n",
    "y=np.array([21, 47, 27, 75, 30, 20, 88, 60, 81, 25, 85, 62, 41, 42, 17, 95, 30, 24, 67, 69, 30, 54, 35, 76, 86])\n",
    "gredient_loss(x,y)"
   ]
  },
  {
   "cell_type": "code",
   "execution_count": 46,
   "id": "9952a5be",
   "metadata": {},
   "outputs": [
    {
     "data": {
      "image/png": "[encoded data removed]",
      "text/plain": [
       "<Figure size 900x600 with 1 Axes>"
      ]
     },
     "metadata": {},
     "output_type": "display_data"
    }
   ],
   "source": [
    "plt.figure(figsize=(9,6))\n",
    "plt.scatter(x,y)\n",
    "plt.plot(x,y_pred1)\n",
    "\n",
    "plt.show()"
   ]
  },
  {
   "cell_type": "code",
   "execution_count": null,
   "id": "5733142c",
   "metadata": {},
   "outputs": [],
   "source": []
  }
 ],
 "metadata": {
  "kernelspec": {
   "display_name": "Python 3 (ipykernel)",
   "language": "python",
   "name": "python3"
  },
  "language_info": {
   "codemirror_mode": {
    "name": "ipython",
    "version": 3
   },
   "file_extension": ".py",
   "mimetype": "text/x-python",
   "name": "python",
   "nbconvert_exporter": "python",
   "pygments_lexer": "ipython3",
   "version": "3.11.1"
  }
 },
 "nbformat": 4,
 "nbformat_minor": 5
}
